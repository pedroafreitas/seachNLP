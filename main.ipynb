{
 "cells": [
  {
   "cell_type": "code",
   "execution_count": 26,
   "metadata": {},
   "outputs": [
    {
     "name": "stdout",
     "output_type": "stream",
     "text": [
      "[('walk', 3, 1), ('tram', 4, 2)]\n",
      "[('walk', 4, 1), ('tram', 6, 2)]\n",
      "[('walk', 10, 1)]\n"
     ]
    }
   ],
   "source": [
    "# Model\n",
    "class TransportationProblem(object):\n",
    "    def __init__(self, N):\n",
    "    # N = number of bloacks\n",
    "        self.N = N\n",
    "    def startState(self):\n",
    "        return 1\n",
    "    def isEnd(self, state):\n",
    "        return state == self.N\n",
    "    def succAndCost(self, state):\n",
    "        # Returns a list of (action, newState, cost) triples\n",
    "        result = []\n",
    "        if state + 1 <= self.N:\n",
    "            result.append((\"walk\", state + 1, 1))\n",
    "        if state * 2 <= self.N:\n",
    "            result.append((\"tram\", state * 2, 2))\n",
    "        return result\n",
    "    \n",
    "problem = TransportationProblem(N = 10)\n",
    "\n",
    "print(problem.succAndCost(2))\n",
    "print(problem.succAndCost(3))\n",
    "print(problem.succAndCost(9))"
   ]
  },
  {
   "cell_type": "code",
   "execution_count": 27,
   "metadata": {
    "scrolled": true
   },
   "outputs": [
    {
     "name": "stdout",
     "output_type": "stream",
     "text": [
      "totalCost: 13\n",
      "('walk', 2, 1)\n",
      "('walk', 3, 1)\n",
      "('tram', 6, 2)\n",
      "('tram', 12, 2)\n",
      "('tram', 24, 2)\n",
      "('walk', 25, 1)\n",
      "('tram', 50, 2)\n",
      "('tram', 100, 2)\n"
     ]
    }
   ],
   "source": [
    "def printSolution(solution):\n",
    "    totalCost, history = solution\n",
    "    print(\"totalCost: {}\".format(totalCost))\n",
    "    for item in history:\n",
    "        print(item)\n",
    "        \n",
    "def backtrackingSearch(problem):\n",
    "    # Best Solution found so far\n",
    "    best = {\n",
    "        \"cost\": float(\"+inf\"),\n",
    "        \"history\": None\n",
    "    }\n",
    "    def recurse(state, history, totalCost):\n",
    "        if problem.isEnd(state):\n",
    "            if totalCost < best[\"cost\"]:\n",
    "                best[\"cost\"] = totalCost\n",
    "                best[\"history\"] = history\n",
    "            return\n",
    "        for action, newState, cost in problem.succAndCost(state):\n",
    "            recurse(newState, history+[(action, newState, cost)], totalCost+cost)\n",
    "    recurse(problem.startState(), history = [], totalCost = 0)\n",
    "    return (best[\"cost\"], best[\"history\"])\n",
    "\n",
    "problem = TransportationProblem(N = 100) \n",
    "printSolution(backtrackingSearch(problem))"
   ]
  },
  {
   "cell_type": "code",
   "execution_count": 60,
   "metadata": {},
   "outputs": [
    {
     "name": "stdout",
     "output_type": "stream",
     "text": [
      "(10, 'thisisveryhard')\n",
      "Custo Total: (10, 'thisisveryhard')\n"
     ]
    },
    {
     "ename": "NameError",
     "evalue": "name 'history' is not defined",
     "output_type": "error",
     "traceback": [
      "\u001b[0;31m---------------------------------------------------------------------------\u001b[0m",
      "\u001b[0;31mNameError\u001b[0m                                 Traceback (most recent call last)",
      "\u001b[0;32m<ipython-input-60-b695c15bf614>\u001b[0m in \u001b[0;36m<module>\u001b[0;34m\u001b[0m\n\u001b[1;32m     23\u001b[0m     \u001b[0;32mreturn\u001b[0m \u001b[0mresult\u001b[0m\u001b[0;34m\u001b[0m\u001b[0;34m\u001b[0m\u001b[0m\n\u001b[1;32m     24\u001b[0m \u001b[0;34m\u001b[0m\u001b[0m\n\u001b[0;32m---> 25\u001b[0;31m \u001b[0mprintSolution\u001b[0m\u001b[0;34m(\u001b[0m\u001b[0mgreedyAlgorithm\u001b[0m\u001b[0;34m(\u001b[0m\u001b[0;34m\"thisisveryhard\"\u001b[0m\u001b[0;34m,\u001b[0m \u001b[0;34m[\u001b[0m\u001b[0;34m\"this\"\u001b[0m\u001b[0;34m,\u001b[0m \u001b[0;34m\"is\"\u001b[0m\u001b[0;34m,\u001b[0m \u001b[0;34m\"hard\"\u001b[0m\u001b[0;34m]\u001b[0m\u001b[0;34m)\u001b[0m\u001b[0;34m)\u001b[0m\u001b[0;34m\u001b[0m\u001b[0;34m\u001b[0m\u001b[0m\n\u001b[0m",
      "\u001b[0;32m<ipython-input-60-b695c15bf614>\u001b[0m in \u001b[0;36mprintSolution\u001b[0;34m(solution)\u001b[0m\n\u001b[1;32m      8\u001b[0m     \u001b[0mprint\u001b[0m\u001b[0;34m(\u001b[0m\u001b[0mtotalCost\u001b[0m\u001b[0;34m)\u001b[0m\u001b[0;34m\u001b[0m\u001b[0;34m\u001b[0m\u001b[0m\n\u001b[1;32m      9\u001b[0m     \u001b[0mprint\u001b[0m\u001b[0;34m(\u001b[0m\u001b[0;34m\"Custo Total: {}\"\u001b[0m\u001b[0;34m.\u001b[0m\u001b[0mformat\u001b[0m\u001b[0;34m(\u001b[0m\u001b[0mtotalCost\u001b[0m\u001b[0;34m)\u001b[0m\u001b[0;34m)\u001b[0m\u001b[0;34m\u001b[0m\u001b[0;34m\u001b[0m\u001b[0m\n\u001b[0;32m---> 10\u001b[0;31m     \u001b[0;32mfor\u001b[0m \u001b[0mitem\u001b[0m \u001b[0;32min\u001b[0m \u001b[0mhistory\u001b[0m\u001b[0;34m:\u001b[0m\u001b[0;34m\u001b[0m\u001b[0;34m\u001b[0m\u001b[0m\n\u001b[0m\u001b[1;32m     11\u001b[0m         \u001b[0mprint\u001b[0m\u001b[0;34m(\u001b[0m\u001b[0mitem\u001b[0m\u001b[0;34m)\u001b[0m\u001b[0;34m\u001b[0m\u001b[0;34m\u001b[0m\u001b[0m\n\u001b[1;32m     12\u001b[0m \u001b[0;34m\u001b[0m\u001b[0m\n",
      "\u001b[0;31mNameError\u001b[0m: name 'history' is not defined"
     ]
    }
   ],
   "source": [
    "#Reconstruct\n",
    "\n",
    "#1\n",
    "\n",
    "# a\n",
    "def printSolution(solution):\n",
    "    totalCost = solution[-1]\n",
    "    print(totalCost)\n",
    "    print(\"Custo Total: {}\".format(totalCost))\n",
    "    for item in history:\n",
    "        print(item) \n",
    "        \n",
    "def greedyAlgorithm(string, vocabulary):\n",
    "    result = []\n",
    "    word = \"\"\n",
    "    cost = 0\n",
    "    for char in string:\n",
    "        word += (char)        \n",
    "        if  word in vocabulary:\n",
    "            result.append((cost + 1, word))\n",
    "        else:\n",
    "            result.append((cost + 10, word))\n",
    "    return result\n",
    "        \n",
    "printSolution(greedyAlgorithm(\"thisisveryhard\", [\"this\", \"is\", \"hard\"]))"
   ]
  },
  {
   "cell_type": "code",
   "execution_count": null,
   "metadata": {},
   "outputs": [],
   "source": []
  }
 ],
 "metadata": {
  "kernelspec": {
   "display_name": "Python 3",
   "language": "python",
   "name": "python3"
  },
  "language_info": {
   "codemirror_mode": {
    "name": "ipython",
    "version": 3
   },
   "file_extension": ".py",
   "mimetype": "text/x-python",
   "name": "python",
   "nbconvert_exporter": "python",
   "pygments_lexer": "ipython3",
   "version": "3.7.6"
  }
 },
 "nbformat": 4,
 "nbformat_minor": 4
}
